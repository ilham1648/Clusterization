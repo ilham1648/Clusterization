{
 "cells": [
  {
   "cell_type": "code",
   "execution_count": 42,
   "metadata": {},
   "outputs": [],
   "source": [
    "import pandas as pd"
   ]
  },
  {
   "cell_type": "code",
   "execution_count": 43,
   "metadata": {},
   "outputs": [
    {
     "name": "stderr",
     "output_type": "stream",
     "text": [
      "C:\\Users\\xiaom\\anaconda3\\lib\\site-packages\\IPython\\core\\interactiveshell.py:3165: DtypeWarning: Columns (0) have mixed types.Specify dtype option on import or set low_memory=False.\n",
      "  has_raised = await self.run_ast_nodes(code_ast.body, cell_name,\n"
     ]
    },
    {
     "data": {
      "text/html": [
       "<div>\n",
       "<style scoped>\n",
       "    .dataframe tbody tr th:only-of-type {\n",
       "        vertical-align: middle;\n",
       "    }\n",
       "\n",
       "    .dataframe tbody tr th {\n",
       "        vertical-align: top;\n",
       "    }\n",
       "\n",
       "    .dataframe thead th {\n",
       "        text-align: right;\n",
       "    }\n",
       "</style>\n",
       "<table border=\"1\" class=\"dataframe\">\n",
       "  <thead>\n",
       "    <tr style=\"text-align: right;\">\n",
       "      <th></th>\n",
       "      <th>id</th>\n",
       "      <th>user_id</th>\n",
       "      <th>venue_id</th>\n",
       "      <th>latitude</th>\n",
       "      <th>longitude</th>\n",
       "      <th>created_at</th>\n",
       "    </tr>\n",
       "  </thead>\n",
       "  <tbody>\n",
       "    <tr>\n",
       "      <th>2</th>\n",
       "      <td>984222</td>\n",
       "      <td>15824.0</td>\n",
       "      <td>5222.0</td>\n",
       "      <td>38.895112</td>\n",
       "      <td>-77.036366</td>\n",
       "      <td>2012-04-21 17:43:47</td>\n",
       "    </tr>\n",
       "    <tr>\n",
       "      <th>4</th>\n",
       "      <td>984234</td>\n",
       "      <td>44652.0</td>\n",
       "      <td>5222.0</td>\n",
       "      <td>33.800745</td>\n",
       "      <td>-84.410520</td>\n",
       "      <td>2012-04-21 17:43:43</td>\n",
       "    </tr>\n",
       "    <tr>\n",
       "      <th>8</th>\n",
       "      <td>984291</td>\n",
       "      <td>105054.0</td>\n",
       "      <td>5222.0</td>\n",
       "      <td>45.523452</td>\n",
       "      <td>-122.676207</td>\n",
       "      <td>2012-04-21 17:39:22</td>\n",
       "    </tr>\n",
       "    <tr>\n",
       "      <th>10</th>\n",
       "      <td>984318</td>\n",
       "      <td>2146539.0</td>\n",
       "      <td>5222.0</td>\n",
       "      <td>40.764462</td>\n",
       "      <td>-111.904565</td>\n",
       "      <td>2012-04-21 17:35:46</td>\n",
       "    </tr>\n",
       "    <tr>\n",
       "      <th>11</th>\n",
       "      <td>984232</td>\n",
       "      <td>93870.0</td>\n",
       "      <td>380645.0</td>\n",
       "      <td>33.448377</td>\n",
       "      <td>-112.074037</td>\n",
       "      <td>2012-04-21 17:38:18</td>\n",
       "    </tr>\n",
       "    <tr>\n",
       "      <th>...</th>\n",
       "      <td>...</td>\n",
       "      <td>...</td>\n",
       "      <td>...</td>\n",
       "      <td>...</td>\n",
       "      <td>...</td>\n",
       "      <td>...</td>\n",
       "    </tr>\n",
       "    <tr>\n",
       "      <th>498253</th>\n",
       "      <td>212202</td>\n",
       "      <td>23019.0</td>\n",
       "      <td>671208.0</td>\n",
       "      <td>44.979965</td>\n",
       "      <td>-93.263836</td>\n",
       "      <td>2011-12-14 01:56:32</td>\n",
       "    </tr>\n",
       "    <tr>\n",
       "      <th>498255</th>\n",
       "      <td>212574</td>\n",
       "      <td>219266.0</td>\n",
       "      <td>7491.0</td>\n",
       "      <td>39.955593</td>\n",
       "      <td>-86.013873</td>\n",
       "      <td>2011-12-14 00:36:05</td>\n",
       "    </tr>\n",
       "    <tr>\n",
       "      <th>498256</th>\n",
       "      <td>212729</td>\n",
       "      <td>957829.0</td>\n",
       "      <td>46717.0</td>\n",
       "      <td>42.707035</td>\n",
       "      <td>-71.163114</td>\n",
       "      <td>2011-12-14 01:55:08</td>\n",
       "    </tr>\n",
       "    <tr>\n",
       "      <th>498257</th>\n",
       "      <td>734718</td>\n",
       "      <td>864870.0</td>\n",
       "      <td>11195.0</td>\n",
       "      <td>38.982228</td>\n",
       "      <td>-94.670792</td>\n",
       "      <td>2012-03-18 13:16:13</td>\n",
       "    </tr>\n",
       "    <tr>\n",
       "      <th>498260</th>\n",
       "      <td>734735</td>\n",
       "      <td>1297773.0</td>\n",
       "      <td>11195.0</td>\n",
       "      <td>40.714353</td>\n",
       "      <td>-74.005973</td>\n",
       "      <td>2012-03-18 13:06:20</td>\n",
       "    </tr>\n",
       "  </tbody>\n",
       "</table>\n",
       "<p>200000 rows × 6 columns</p>\n",
       "</div>"
      ],
      "text/plain": [
       "             id    user_id  venue_id   latitude   longitude  \\\n",
       "2       984222     15824.0    5222.0  38.895112  -77.036366   \n",
       "4       984234     44652.0    5222.0  33.800745  -84.410520   \n",
       "8       984291    105054.0    5222.0  45.523452 -122.676207   \n",
       "10      984318   2146539.0    5222.0  40.764462 -111.904565   \n",
       "11      984232     93870.0  380645.0  33.448377 -112.074037   \n",
       "...         ...        ...       ...        ...         ...   \n",
       "498253   212202    23019.0  671208.0  44.979965  -93.263836   \n",
       "498255   212574   219266.0    7491.0  39.955593  -86.013873   \n",
       "498256   212729   957829.0   46717.0  42.707035  -71.163114   \n",
       "498257   734718   864870.0   11195.0  38.982228  -94.670792   \n",
       "498260   734735  1297773.0   11195.0  40.714353  -74.005973   \n",
       "\n",
       "                 created_at  \n",
       "2       2012-04-21 17:43:47  \n",
       "4       2012-04-21 17:43:43  \n",
       "8       2012-04-21 17:39:22  \n",
       "10      2012-04-21 17:35:46  \n",
       "11      2012-04-21 17:38:18  \n",
       "...                     ...  \n",
       "498253  2011-12-14 01:56:32  \n",
       "498255  2011-12-14 00:36:05  \n",
       "498256  2011-12-14 01:55:08  \n",
       "498257  2012-03-18 13:16:13  \n",
       "498260  2012-03-18 13:06:20  \n",
       "\n",
       "[200000 rows x 6 columns]"
      ]
     },
     "execution_count": 43,
     "metadata": {},
     "output_type": "execute_result"
    }
   ],
   "source": [
    "df = pd.read_csv('checkins.dat', sep='|', header = 0,\n",
    "                 skipinitialspace = True)\n",
    "df.dropna(inplace = True)\n",
    "df.columns = [name.strip() for name in df.columns]\n",
    "df = df.iloc[0 : 200000]\n",
    "df"
   ]
  },
  {
   "cell_type": "code",
   "execution_count": 44,
   "metadata": {},
   "outputs": [
    {
     "data": {
      "text/plain": [
       "<AxesSubplot:xlabel='longitude', ylabel='latitude'>"
      ]
     },
     "execution_count": 44,
     "metadata": {},
     "output_type": "execute_result"
    },
    {
     "data": {
      "image/png": "[encoded data removed]",
      "text/plain": [
       "<Figure size 432x288 with 1 Axes>"
      ]
     },
     "metadata": {
      "needs_background": "light"
     },
     "output_type": "display_data"
    }
   ],
   "source": [
    "df.plot.scatter(x = 'longitude', y = 'latitude', alpha = 0.5)"
   ]
  },
  {
   "cell_type": "code",
   "execution_count": 45,
   "metadata": {},
   "outputs": [],
   "source": [
    "from sklearn.cluster import MeanShift\n",
    "clustering = MeanShift(bandwidth = 0.1)\n",
    "clustering.fit(df[['latitude', 'longitude']])\n",
    "cluster_centers_x = [el[1] for el in clustering.cluster_centers_]\n",
    "cluster_centers_y = [el[0] for el in clustering.cluster_centers_]"
   ]
  },
  {
   "cell_type": "code",
   "execution_count": 46,
   "metadata": {},
   "outputs": [
    {
     "data": {
      "text/plain": [
       "<matplotlib.collections.PathCollection at 0x24448aa1130>"
      ]
     },
     "execution_count": 46,
     "metadata": {},
     "output_type": "execute_result"
    },
    {
     "data": {
      "image/png": "[encoded data removed]",
      "text/plain": [
       "<Figure size 432x288 with 1 Axes>"
      ]
     },
     "metadata": {
      "needs_background": "light"
     },
     "output_type": "display_data"
    }
   ],
   "source": [
    "import matplotlib.pyplot as plt\n",
    "plt.scatter(x = cluster_centers_x, y = cluster_centers_y, alpha = 0.5)"
   ]
  },
  {
   "cell_type": "code",
   "execution_count": 47,
   "metadata": {},
   "outputs": [],
   "source": [
    "good_labels = []\n",
    "for label in set(clustering.labels_):\n",
    "    if len(clustering.labels_[clustering.labels_ == label]) >= 15:\n",
    "        good_labels.append(label)"
   ]
  },
  {
   "cell_type": "code",
   "execution_count": 48,
   "metadata": {},
   "outputs": [
    {
     "data": {
      "text/html": [
       "<div>\n",
       "<style scoped>\n",
       "    .dataframe tbody tr th:only-of-type {\n",
       "        vertical-align: middle;\n",
       "    }\n",
       "\n",
       "    .dataframe tbody tr th {\n",
       "        vertical-align: top;\n",
       "    }\n",
       "\n",
       "    .dataframe thead th {\n",
       "        text-align: right;\n",
       "    }\n",
       "</style>\n",
       "<table border=\"1\" class=\"dataframe\">\n",
       "  <thead>\n",
       "    <tr style=\"text-align: right;\">\n",
       "      <th></th>\n",
       "      <th>longitude</th>\n",
       "      <th>latitude</th>\n",
       "      <th>label</th>\n",
       "    </tr>\n",
       "  </thead>\n",
       "  <tbody>\n",
       "    <tr>\n",
       "      <th>0</th>\n",
       "      <td>-73.989995</td>\n",
       "      <td>40.717320</td>\n",
       "      <td>0</td>\n",
       "    </tr>\n",
       "    <tr>\n",
       "      <th>1</th>\n",
       "      <td>-112.000910</td>\n",
       "      <td>33.449398</td>\n",
       "      <td>1</td>\n",
       "    </tr>\n",
       "    <tr>\n",
       "      <th>2</th>\n",
       "      <td>-87.629846</td>\n",
       "      <td>41.878206</td>\n",
       "      <td>2</td>\n",
       "    </tr>\n",
       "    <tr>\n",
       "      <th>3</th>\n",
       "      <td>-111.865940</td>\n",
       "      <td>33.385532</td>\n",
       "      <td>3</td>\n",
       "    </tr>\n",
       "    <tr>\n",
       "      <th>4</th>\n",
       "      <td>-77.048889</td>\n",
       "      <td>38.885769</td>\n",
       "      <td>4</td>\n",
       "    </tr>\n",
       "    <tr>\n",
       "      <th>...</th>\n",
       "      <td>...</td>\n",
       "      <td>...</td>\n",
       "      <td>...</td>\n",
       "    </tr>\n",
       "    <tr>\n",
       "      <th>1384</th>\n",
       "      <td>-78.643603</td>\n",
       "      <td>43.013808</td>\n",
       "      <td>1384</td>\n",
       "    </tr>\n",
       "    <tr>\n",
       "      <th>1386</th>\n",
       "      <td>-82.717989</td>\n",
       "      <td>42.692294</td>\n",
       "      <td>1386</td>\n",
       "    </tr>\n",
       "    <tr>\n",
       "      <th>2726</th>\n",
       "      <td>-80.187280</td>\n",
       "      <td>40.262570</td>\n",
       "      <td>2726</td>\n",
       "    </tr>\n",
       "    <tr>\n",
       "      <th>2803</th>\n",
       "      <td>-77.315812</td>\n",
       "      <td>37.523479</td>\n",
       "      <td>2803</td>\n",
       "    </tr>\n",
       "    <tr>\n",
       "      <th>3653</th>\n",
       "      <td>-77.034978</td>\n",
       "      <td>40.110926</td>\n",
       "      <td>3653</td>\n",
       "    </tr>\n",
       "  </tbody>\n",
       "</table>\n",
       "<p>957 rows × 3 columns</p>\n",
       "</div>"
      ],
      "text/plain": [
       "       longitude   latitude  label\n",
       "0     -73.989995  40.717320      0\n",
       "1    -112.000910  33.449398      1\n",
       "2     -87.629846  41.878206      2\n",
       "3    -111.865940  33.385532      3\n",
       "4     -77.048889  38.885769      4\n",
       "...          ...        ...    ...\n",
       "1384  -78.643603  43.013808   1384\n",
       "1386  -82.717989  42.692294   1386\n",
       "2726  -80.187280  40.262570   2726\n",
       "2803  -77.315812  37.523479   2803\n",
       "3653  -77.034978  40.110926   3653\n",
       "\n",
       "[957 rows x 3 columns]"
      ]
     },
     "execution_count": 48,
     "metadata": {},
     "output_type": "execute_result"
    }
   ],
   "source": [
    "cluster_centers = pd.DataFrame({'longitude': cluster_centers_x,\n",
    "                                'latitude': cluster_centers_y, 'label': range(len(cluster_centers_x))})\n",
    "good_cluster_centers = cluster_centers[cluster_centers['label'].isin(\n",
    "    good_labels)]\n",
    "good_cluster_centers"
   ]
  },
  {
   "cell_type": "code",
   "execution_count": 49,
   "metadata": {},
   "outputs": [
    {
     "data": {
      "text/plain": [
       "<matplotlib.collections.PathCollection at 0x2444897fb50>"
      ]
     },
     "execution_count": 49,
     "metadata": {},
     "output_type": "execute_result"
    },
    {
     "data": {
      "image/png": "[encoded data removed]",
      "text/plain": [
       "<Figure size 432x288 with 1 Axes>"
      ]
     },
     "metadata": {
      "needs_background": "light"
     },
     "output_type": "display_data"
    }
   ],
   "source": [
    "plt.scatter(x=good_cluster_centers['longitude'],\n",
    "            y=good_cluster_centers['latitude'], alpha=0.6)"
   ]
  },
  {
   "cell_type": "code",
   "execution_count": 50,
   "metadata": {},
   "outputs": [],
   "source": [
    "office_addresses = [\n",
    "    [34.2720355, -118.4693734],\n",
    "    [33.7507188, -118.1889072],\n",
    "    [27.9450524, -82.4455656],\n",
    "    [39.2650447, -76.6007999],\n",
    "    [32.717609, -117.1761962],\n",
    "    [37.804883, -122.4016302],\n",
    "    [49.2514431, -123.1277804],\n",
    "    [32.7859233, -79.9333731],\n",
    "    [30.6860768, -88.0394999],\n",
    "    [26.1216934, -80.1388889],\n",
    "    [33.3882696, -111.6913768],\n",
    "    [26.0853385, -80.1180988],\n",
    "    [30.0068944, -90.1633797],\n",
    "    [29.3075638, -94.7986193],\n",
    "    [28.4157244, -80.6310168],\n",
    "    [52.3787031, 4.8849274],\n",
    "    [47.3831508, 8.4987319],\n",
    "    [41.3905199, 2.1570719],\n",
    "    [50.4356475, 30.5142909],\n",
    "    [53.4699633, -2.2947828]\n",
    "]"
   ]
  },
  {
   "cell_type": "code",
   "execution_count": 51,
   "metadata": {},
   "outputs": [
    {
     "data": {
      "text/plain": [
       "[[34.196007448338456, -118.55005310241734],\n",
       " [33.81249046885486, -118.13715305221267],\n",
       " [27.949487833223188, -82.46495528701965],\n",
       " [39.28722942097766, -76.61349781776188],\n",
       " [32.70981906967179, -117.15149130993028],\n",
       " [37.78613136046222, -122.42406656710145],\n",
       " [49.240204477747305, -123.11168844368241],\n",
       " [32.789419742774626, -79.92540948150294],\n",
       " [30.695467679999997, -88.04394997000006],\n",
       " [26.10746111802706, -80.16129293571461],\n",
       " [33.415048500000005, -111.54957770000007],\n",
       " [26.10746111802706, -80.16129293571461],\n",
       " [29.986724518292693, -90.20437442560984],\n",
       " [29.529337903703706, -95.09414072222225],\n",
       " [28.324667917500005, -80.66757221999997],\n",
       " [52.37288348484852, 4.892400727272723],\n",
       " [47.391517436363635, 8.539223845454547],\n",
       " [41.375373932142864, 2.1479214392857133],\n",
       " [55.75004057500001, 37.621801785937535],\n",
       " [53.480651852941165, -2.2349982941176476]]"
      ]
     },
     "execution_count": 51,
     "metadata": {},
     "output_type": "execute_result"
    }
   ],
   "source": [
    "closest_centers = []\n",
    "min_distance = 2000\n",
    "closest_center = [1000, 1000]\n",
    "for address in office_addresses:\n",
    "    best_distance = 2000\n",
    "    closest_centers.append([1000, 1000])\n",
    "    for i in range(len(good_cluster_centers)):\n",
    "        distance = (address[0] - good_cluster_centers.iloc[i, 1]) ** 2 + \\\n",
    "            (address[1] - good_cluster_centers.iloc[i, 0]) ** 2\n",
    "        if distance < best_distance:\n",
    "            best_distance = distance\n",
    "            closest_centers[-1] = [good_cluster_centers.iloc[i, 1],\n",
    "                                good_cluster_centers.iloc[i, 0]]\n",
    "    if best_distance < min_distance:\n",
    "        closest_center = closest_centers[-1]\n",
    "        min_distance = best_distance\n",
    "closest_centers"
   ]
  },
  {
   "cell_type": "code",
   "execution_count": 52,
   "metadata": {},
   "outputs": [
    {
     "data": {
      "text/plain": [
       "[32.789419742774626, -79.92540948150294]"
      ]
     },
     "execution_count": 52,
     "metadata": {},
     "output_type": "execute_result"
    }
   ],
   "source": [
    "closest_center"
   ]
  }
 ],
 "metadata": {
  "interpreter": {
   "hash": "1b79b1d945f72c9a80276892e944893f181e18abafb1f03563073fd552f6631c"
  },
  "kernelspec": {
   "display_name": "Python 3.8.8 64-bit ('base': conda)",
   "language": "python",
   "name": "python3"
  },
  "language_info": {
   "codemirror_mode": {
    "name": "ipython",
    "version": 3
   },
   "file_extension": ".py",
   "mimetype": "text/x-python",
   "name": "python",
   "nbconvert_exporter": "python",
   "pygments_lexer": "ipython3",
   "version": "3.8.8"
  },
  "orig_nbformat": 4
 },
 "nbformat": 4,
 "nbformat_minor": 2
}
